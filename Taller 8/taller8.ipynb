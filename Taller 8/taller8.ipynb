{
 "cells": [
  {
   "cell_type": "code",
   "execution_count": 570,
   "metadata": {},
   "outputs": [],
   "source": [
    "! pip install rdflib Owlready2 -q"
   ]
  },
  {
   "cell_type": "code",
   "execution_count": 571,
   "metadata": {},
   "outputs": [
    {
     "data": {
      "text/plain": [
       "<Graph identifier=N7250481d74ef4165a4df6607365df44d (<class 'rdflib.graph.Graph'>)>"
      ]
     },
     "execution_count": 571,
     "metadata": {},
     "output_type": "execute_result"
    }
   ],
   "source": [
    "import rdflib\n",
    "\n",
    "g = rdflib.Graph()\n",
    "\n",
    "g.parse('simpsons.owl', format='xml')"
   ]
  },
  {
   "cell_type": "code",
   "execution_count": 572,
   "metadata": {},
   "outputs": [],
   "source": [
    "from owlready2 import *\n",
    "\n",
    "owlready2.JAVA_EXE = 'C:\\\\Program Files (x86)\\\\Java\\\\jdk-17\\\\bin\\\\java'"
   ]
  },
  {
   "cell_type": "code",
   "execution_count": 573,
   "metadata": {},
   "outputs": [],
   "source": [
    "onto = get_ontology(\"simpsons.owl\").load()"
   ]
  },
  {
   "cell_type": "code",
   "execution_count": 574,
   "metadata": {},
   "outputs": [],
   "source": [
    "is_father_of = {\n",
    "    'simpsons.AbrahamSimpson': [ind for ind in onto.individuals() if str(ind) in ['simpsons.HerbertPowell', 'simpsons.HomeroSimpson']],\n",
    "    'simpsons.ClancyBouvier': [ind for ind in onto.individuals() if str(ind) in ['simpsons.MargeSimpson', 'simpsons.PattyBouvier', 'simpsons.SelmaBouvier']],\n",
    "    'simpsons.HomeroSimpson': [ind for ind in onto.individuals() if str(ind) in ['simpsons.BartSimpson', 'simpsons.LisaSimpson', 'simpsons.MaggieSimpson']],\n",
    "}\n",
    "\n",
    "is_mother_of = {\n",
    "    'simpsons.MonaSimpson': [ind for ind in onto.individuals() if str(ind) in ['simpsons.HomeroSimpson']],\n",
    "    'simpsons.JacquelineBouvier': [ind for ind in onto.individuals() if str(ind) in ['simpsons.MargeSimpson', 'simpsons.PattyBouvier', 'simpsons.SelmaBouvier']],\n",
    "    'simpsons.MargeSimpson': [ind for ind in onto.individuals() if str(ind) in ['simpsons.BartSimpson', 'simpsons.LisaSimpson', 'simpsons.MaggieSimpson']],\n",
    "    'simpsons.SelmaBouvier': [ind for ind in onto.individuals() if str(ind) in ['simpsons.LingBouvier']],\n",
    "}"
   ]
  },
  {
   "cell_type": "markdown",
   "metadata": {},
   "source": [
    "## Ejercicio 2\n",
    "\n",
    "Agregar relaciones entre padres e hijos"
   ]
  },
  {
   "cell_type": "code",
   "execution_count": 575,
   "metadata": {},
   "outputs": [],
   "source": [
    "for person in onto.get_instances_of(onto.Hombre):\n",
    "    if str(person) in is_father_of:\n",
    "        sons = is_father_of[str(person)]\n",
    "        person.es_padre_de = sons"
   ]
  },
  {
   "cell_type": "code",
   "execution_count": 576,
   "metadata": {},
   "outputs": [],
   "source": [
    "for person in onto.get_instances_of(onto.Mujer):\n",
    "    if str(person) in is_mother_of:\n",
    "        sons = is_mother_of[str(person)]\n",
    "        person.es_madre_de = sons"
   ]
  },
  {
   "cell_type": "code",
   "execution_count": 577,
   "metadata": {},
   "outputs": [
    {
     "name": "stderr",
     "output_type": "stream",
     "text": [
      "* Owlready2 * Running Pellet...\n",
      "    C:\\Program Files (x86)\\Java\\jdk-17\\bin\\java -Xmx2000M -cp C:\\Python310\\lib\\site-packages\\owlready2\\pellet\\antlr-3.2.jar;C:\\Python310\\lib\\site-packages\\owlready2\\pellet\\antlr-runtime-3.2.jar;C:\\Python310\\lib\\site-packages\\owlready2\\pellet\\aterm-java-1.6.jar;C:\\Python310\\lib\\site-packages\\owlready2\\pellet\\commons-codec-1.6.jar;C:\\Python310\\lib\\site-packages\\owlready2\\pellet\\httpclient-4.2.3.jar;C:\\Python310\\lib\\site-packages\\owlready2\\pellet\\httpcore-4.2.2.jar;C:\\Python310\\lib\\site-packages\\owlready2\\pellet\\jcl-over-slf4j-1.6.4.jar;C:\\Python310\\lib\\site-packages\\owlready2\\pellet\\jena-arq-2.10.0.jar;C:\\Python310\\lib\\site-packages\\owlready2\\pellet\\jena-core-2.10.0.jar;C:\\Python310\\lib\\site-packages\\owlready2\\pellet\\jena-iri-0.9.5.jar;C:\\Python310\\lib\\site-packages\\owlready2\\pellet\\jena-tdb-0.10.0.jar;C:\\Python310\\lib\\site-packages\\owlready2\\pellet\\jgrapht-jdk1.5.jar;C:\\Python310\\lib\\site-packages\\owlready2\\pellet\\log4j-1.2.16.jar;C:\\Python310\\lib\\site-packages\\owlready2\\pellet\\owlapi-distribution-3.4.3-bin.jar;C:\\Python310\\lib\\site-packages\\owlready2\\pellet\\pellet-2.3.1.jar;C:\\Python310\\lib\\site-packages\\owlready2\\pellet\\slf4j-api-1.6.4.jar;C:\\Python310\\lib\\site-packages\\owlready2\\pellet\\slf4j-log4j12-1.6.4.jar;C:\\Python310\\lib\\site-packages\\owlready2\\pellet\\xercesImpl-2.10.0.jar;C:\\Python310\\lib\\site-packages\\owlready2\\pellet\\xml-apis-1.4.01.jar pellet.Pellet realize --loader Jena --input-format N-Triples --infer-prop-values --infer-data-prop-values --ignore-imports C:\\Users\\seren\\AppData\\Local\\Temp\\tmp4xbay7op\n",
      "* Owlready2 * Pellet took 0.6569983959197998 seconds\n",
      "* Owlready * (NB: only changes on entities loaded in Python are shown, other changes are done but not listed)\n"
     ]
    }
   ],
   "source": [
    "sync_reasoner_pellet(onto, infer_property_values=True, infer_data_property_values=True)"
   ]
  },
  {
   "cell_type": "code",
   "execution_count": 578,
   "metadata": {},
   "outputs": [
    {
     "name": "stdout",
     "output_type": "stream",
     "text": [
      "Hijos de simpsons.AbrahamSimpson: [simpsons.HerbertPowell, simpsons.HomeroSimpson]\n",
      "Hijos de simpsons.ClancyBouvier: [simpsons.MargeSimpson, simpsons.PattyBouvier, simpsons.SelmaBouvier]\n",
      "Hijos de simpsons.HomeroSimpson: [simpsons.BartSimpson, simpsons.LisaSimpson, simpsons.MaggieSimpson]\n",
      "Hijos de simpsons.JacquelineBouvier: [simpsons.BartSimpson, simpsons.LisaSimpson, simpsons.MaggieSimpson]\n",
      "Hijos de simpsons.MargeSimpson: [simpsons.BartSimpson, simpsons.LisaSimpson, simpsons.MaggieSimpson]\n",
      "Hijos de simpsons.MonaSimpson: [simpsons.BartSimpson, simpsons.LisaSimpson, simpsons.MaggieSimpson]\n",
      "Hijos de simpsons.SelmaBouvier: [simpsons.BartSimpson, simpsons.LisaSimpson, simpsons.MaggieSimpson]\n"
     ]
    }
   ],
   "source": [
    "for padre in onto.get_instances_of(onto.Padre):\n",
    "    print('Hijos de {}:'.format(str(padre)), padre.es_padre_de)\n",
    "\n",
    "for madre in onto.get_instances_of(onto.Madre):\n",
    "    print('Hijos de {}:'.format(str(madre)), padre.es_padre_de) # Me sale vacío con es_madre_de ?????"
   ]
  },
  {
   "cell_type": "markdown",
   "metadata": {},
   "source": [
    "## Ejercicio 3"
   ]
  },
  {
   "cell_type": "code",
   "execution_count": 579,
   "metadata": {},
   "outputs": [
    {
     "data": {
      "text/plain": [
       "Mujer(?h), es_abuela_de(?a, ?h) -> es_nieta_de(?h, ?a)"
      ]
     },
     "execution_count": 579,
     "metadata": {},
     "output_type": "execute_result"
    }
   ],
   "source": [
    "rule_abuelo_paterno = Imp(namespace=onto)\n",
    "rule_abuela_paterna = Imp(namespace=onto)\n",
    "rule_abuelo_materno = Imp(namespace=onto)\n",
    "rule_abuela_materna = Imp(namespace=onto)\n",
    "\n",
    "rule_nieto_paterno = Imp(namespace=onto)\n",
    "rule_nieto_materno = Imp(namespace=onto)\n",
    "rule_nieta_paterna = Imp(namespace=onto)\n",
    "rule_nieta_materna = Imp(namespace=onto)\n",
    "\n",
    "rule_abuelo_paterno.set_as_rule(\"\"\"es_padre_de(?a, ?p) ^ es_padre_de(?p, ?h) -> es_abuelo_de(?a, ?h)\"\"\")\n",
    "rule_abuela_paterna.set_as_rule(\"\"\"es_madre_de(?a, ?p) ^ es_padre_de(?p, ?h) -> es_abuela_de(?a, ?h)\"\"\")\n",
    "rule_abuelo_materno.set_as_rule(\"\"\"es_padre_de(?a, ?p) ^ es_madre_de(?p, ?h) -> es_abuelo_de(?a, ?h)\"\"\")\n",
    "rule_abuelo_materno.set_as_rule(\"\"\"es_madre_de(?a, ?p) ^ es_madre_de(?p, ?h) -> es_abuela_de(?a, ?h)\"\"\")\n",
    "\n",
    "rule_nieto_paterno.set_as_rule(\"\"\"Hombre(?h) ^ es_abuelo_de(?a, ?h) -> es_nieto_de(?h, ?a)\"\"\")\n",
    "rule_nieta_paterna.set_as_rule(\"\"\"Mujer(?h) ^ es_abuelo_de(?a, ?h) -> es_nieta_de(?h, ?a)\"\"\")\n",
    "rule_nieto_materno.set_as_rule(\"\"\"Hombre(?h) ^ es_abuela_de(?a, ?h) -> es_nieto_de(?h, ?a)\"\"\")\n",
    "rule_nieta_materna.set_as_rule(\"\"\"Mujer(?h) ^ es_abuela_de(?a, ?h) -> es_nieta_de(?h, ?a)\"\"\")"
   ]
  },
  {
   "cell_type": "code",
   "execution_count": 580,
   "metadata": {},
   "outputs": [
    {
     "name": "stderr",
     "output_type": "stream",
     "text": [
      "* Owlready2 * Running Pellet...\n",
      "    C:\\Program Files (x86)\\Java\\jdk-17\\bin\\java -Xmx2000M -cp C:\\Python310\\lib\\site-packages\\owlready2\\pellet\\antlr-3.2.jar;C:\\Python310\\lib\\site-packages\\owlready2\\pellet\\antlr-runtime-3.2.jar;C:\\Python310\\lib\\site-packages\\owlready2\\pellet\\aterm-java-1.6.jar;C:\\Python310\\lib\\site-packages\\owlready2\\pellet\\commons-codec-1.6.jar;C:\\Python310\\lib\\site-packages\\owlready2\\pellet\\httpclient-4.2.3.jar;C:\\Python310\\lib\\site-packages\\owlready2\\pellet\\httpcore-4.2.2.jar;C:\\Python310\\lib\\site-packages\\owlready2\\pellet\\jcl-over-slf4j-1.6.4.jar;C:\\Python310\\lib\\site-packages\\owlready2\\pellet\\jena-arq-2.10.0.jar;C:\\Python310\\lib\\site-packages\\owlready2\\pellet\\jena-core-2.10.0.jar;C:\\Python310\\lib\\site-packages\\owlready2\\pellet\\jena-iri-0.9.5.jar;C:\\Python310\\lib\\site-packages\\owlready2\\pellet\\jena-tdb-0.10.0.jar;C:\\Python310\\lib\\site-packages\\owlready2\\pellet\\jgrapht-jdk1.5.jar;C:\\Python310\\lib\\site-packages\\owlready2\\pellet\\log4j-1.2.16.jar;C:\\Python310\\lib\\site-packages\\owlready2\\pellet\\owlapi-distribution-3.4.3-bin.jar;C:\\Python310\\lib\\site-packages\\owlready2\\pellet\\pellet-2.3.1.jar;C:\\Python310\\lib\\site-packages\\owlready2\\pellet\\slf4j-api-1.6.4.jar;C:\\Python310\\lib\\site-packages\\owlready2\\pellet\\slf4j-log4j12-1.6.4.jar;C:\\Python310\\lib\\site-packages\\owlready2\\pellet\\xercesImpl-2.10.0.jar;C:\\Python310\\lib\\site-packages\\owlready2\\pellet\\xml-apis-1.4.01.jar pellet.Pellet realize --loader Jena --input-format N-Triples --infer-prop-values --infer-data-prop-values --ignore-imports C:\\Users\\seren\\AppData\\Local\\Temp\\tmpqc62wbx_\n",
      "* Owlready2 * Pellet took 0.6790010929107666 seconds\n",
      "* Owlready * (NB: only changes on entities loaded in Python are shown, other changes are done but not listed)\n"
     ]
    }
   ],
   "source": [
    "sync_reasoner_pellet(onto, infer_property_values=True, infer_data_property_values=True)"
   ]
  },
  {
   "cell_type": "code",
   "execution_count": 581,
   "metadata": {},
   "outputs": [
    {
     "name": "stdout",
     "output_type": "stream",
     "text": [
      "Abuelos de simpsons.BartSimpson: [simpsons.MonaSimpson, simpsons.JacquelineBouvier, simpsons.AbrahamSimpson]\n",
      "Abuelos de simpsons.LingBouvier: [simpsons.JacquelineBouvier]\n",
      "Abuelos de simpsons.LisaSimpson: [simpsons.MonaSimpson, simpsons.JacquelineBouvier, simpsons.AbrahamSimpson]\n",
      "Abuelos de simpsons.MaggieSimpson: [simpsons.MonaSimpson, simpsons.JacquelineBouvier, simpsons.AbrahamSimpson]\n"
     ]
    }
   ],
   "source": [
    "for nieto in onto.get_instances_of(onto.Nieto):\n",
    "    print('Abuelos de {}:'.format(str(nieto)), nieto.es_nieto_de)\n",
    "\n",
    "for nieta in onto.get_instances_of(onto.Nieta):\n",
    "    print('Abuelos de {}:'.format(str(nieta)), nieta.es_nieta_de)"
   ]
  },
  {
   "cell_type": "markdown",
   "metadata": {},
   "source": [
    "## Ejercicio 4"
   ]
  },
  {
   "cell_type": "code",
   "execution_count": 582,
   "metadata": {},
   "outputs": [
    {
     "data": {
      "text/plain": [
       "es_hija_de(?a, ?p), es_hijo_de(?b, ?p), DifferentFrom(?a, ?b) -> es_hermana_de(?a, ?b)"
      ]
     },
     "execution_count": 582,
     "metadata": {},
     "output_type": "execute_result"
    }
   ],
   "source": [
    "rule_bro_bro = Imp(namespace=onto)\n",
    "rule_bro_sis = Imp(namespace=onto)\n",
    "rule_sis_sis = Imp(namespace=onto)\n",
    "\n",
    "rule_bro_bro.set_as_rule(\"\"\"es_hijo_de(?a, ?p) ^ es_hijo_de(?b, ?p) ^ differentFrom(?a, ?b) -> es_hermano_de(?a, ?b)\"\"\")\n",
    "rule_bro_sis.set_as_rule(\"\"\"es_hijo_de(?a, ?p) ^ es_hija_de(?b, ?p) ^ differentFrom(?a, ?b) -> es_hermano_de(?a, ?b)\"\"\")\n",
    "rule_sis_sis.set_as_rule(\"\"\"es_hija_de(?a, ?p) ^ es_hija_de(?b, ?p) ^ differentFrom(?a, ?b) -> es_hermana_de(?a, ?b)\"\"\")"
   ]
  },
  {
   "cell_type": "code",
   "execution_count": 583,
   "metadata": {},
   "outputs": [
    {
     "name": "stderr",
     "output_type": "stream",
     "text": [
      "* Owlready2 * Running Pellet...\n",
      "    C:\\Program Files (x86)\\Java\\jdk-17\\bin\\java -Xmx2000M -cp C:\\Python310\\lib\\site-packages\\owlready2\\pellet\\antlr-3.2.jar;C:\\Python310\\lib\\site-packages\\owlready2\\pellet\\antlr-runtime-3.2.jar;C:\\Python310\\lib\\site-packages\\owlready2\\pellet\\aterm-java-1.6.jar;C:\\Python310\\lib\\site-packages\\owlready2\\pellet\\commons-codec-1.6.jar;C:\\Python310\\lib\\site-packages\\owlready2\\pellet\\httpclient-4.2.3.jar;C:\\Python310\\lib\\site-packages\\owlready2\\pellet\\httpcore-4.2.2.jar;C:\\Python310\\lib\\site-packages\\owlready2\\pellet\\jcl-over-slf4j-1.6.4.jar;C:\\Python310\\lib\\site-packages\\owlready2\\pellet\\jena-arq-2.10.0.jar;C:\\Python310\\lib\\site-packages\\owlready2\\pellet\\jena-core-2.10.0.jar;C:\\Python310\\lib\\site-packages\\owlready2\\pellet\\jena-iri-0.9.5.jar;C:\\Python310\\lib\\site-packages\\owlready2\\pellet\\jena-tdb-0.10.0.jar;C:\\Python310\\lib\\site-packages\\owlready2\\pellet\\jgrapht-jdk1.5.jar;C:\\Python310\\lib\\site-packages\\owlready2\\pellet\\log4j-1.2.16.jar;C:\\Python310\\lib\\site-packages\\owlready2\\pellet\\owlapi-distribution-3.4.3-bin.jar;C:\\Python310\\lib\\site-packages\\owlready2\\pellet\\pellet-2.3.1.jar;C:\\Python310\\lib\\site-packages\\owlready2\\pellet\\slf4j-api-1.6.4.jar;C:\\Python310\\lib\\site-packages\\owlready2\\pellet\\slf4j-log4j12-1.6.4.jar;C:\\Python310\\lib\\site-packages\\owlready2\\pellet\\xercesImpl-2.10.0.jar;C:\\Python310\\lib\\site-packages\\owlready2\\pellet\\xml-apis-1.4.01.jar pellet.Pellet realize --loader Jena --input-format N-Triples --infer-prop-values --infer-data-prop-values --ignore-imports C:\\Users\\seren\\AppData\\Local\\Temp\\tmp182q4iug\n",
      "* Owlready2 * Pellet took 0.681511640548706 seconds\n",
      "* Owlready * (NB: only changes on entities loaded in Python are shown, other changes are done but not listed)\n"
     ]
    }
   ],
   "source": [
    "sync_reasoner_pellet(onto, infer_property_values=True, infer_data_property_values=True)"
   ]
  },
  {
   "cell_type": "code",
   "execution_count": 586,
   "metadata": {},
   "outputs": [
    {
     "name": "stdout",
     "output_type": "stream",
     "text": [
      "Hermanos de simpsons.BartSimpson: [simpsons.MaggieSimpson, simpsons.LisaSimpson]\n",
      "Hermanos de simpsons.HerbertPowell: [simpsons.HomeroSimpson]\n",
      "Hermanos de simpsons.HomeroSimpson: [simpsons.HerbertPowell]\n",
      "Hermanos de simpsons.LisaSimpson: []\n",
      "Hermanos de simpsons.MaggieSimpson: []\n",
      "Hermanos de simpsons.MargeSimpson: []\n",
      "Hermanos de simpsons.PattyBouvier: []\n",
      "Hermanos de simpsons.SelmaBouvier: []\n"
     ]
    }
   ],
   "source": [
    "for hermano in onto.get_instances_of(onto.Hermano):\n",
    "    print('Hermanos de {}:'.format(str(hermano)), hermano.es_hermano_de)\n",
    "\n",
    "for hermana in onto.get_instances_of(onto.Hermana):\n",
    "    print('Hermanos de {}:'.format(str(hermana)), hermano.es_hermana_de)"
   ]
  }
 ],
 "metadata": {
  "interpreter": {
   "hash": "2be5faf79681da6f2a61fdfdd5405d65d042280f7fba6178067603e3a2925119"
  },
  "kernelspec": {
   "display_name": "Python 3.10.1 64-bit",
   "language": "python",
   "name": "python3"
  },
  "language_info": {
   "codemirror_mode": {
    "name": "ipython",
    "version": 3
   },
   "file_extension": ".py",
   "mimetype": "text/x-python",
   "name": "python",
   "nbconvert_exporter": "python",
   "pygments_lexer": "ipython3",
   "version": "3.10.1"
  },
  "orig_nbformat": 4
 },
 "nbformat": 4,
 "nbformat_minor": 2
}
